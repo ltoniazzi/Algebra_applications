{
 "cells": [
  {
   "cell_type": "markdown",
   "id": "8a817c9c-f201-41b8-a778-2e8541e23278",
   "metadata": {},
   "source": [
    "# Encryption\n",
    "\n",
    "We use elementary matrix operations to define and encryption/decryption algorythm. Simply run the code and follow the promp instructions. \n",
    "\n",
    "Main idea: for each possible password and a text of lenght $n$, a known rule associates an invertible matrix $A$ of dimension $n$. Then the text is converted in a vector  $\\mathbf X\\mathbb Z^n$. Then the encrypted message is \n",
    "\n",
    "$$\n",
    "B=AX,\n",
    "$$\n",
    "\n",
    "and of course the decrypted message is $A^{-1}B=A^{-1}AX=X$. \n",
    "\n",
    "\n",
    "\n",
    "This is the algorythm to generate $A$ given a text lenght $n$. construct $n$ elementary matrices $E_1,\\,E_2,...,E_n$ where   for each $i=1,2,...n$\n",
    "$$\n",
    "E_i(i,mod(j_i,\\text{password lenght})) = j_i, \\quad \\text{where}\\quad j_i = mod(i,\\text{password lenght}),\n",
    "$$\n",
    "denoting the $l,m$ entry of a matrix $C$ by $C(l,m)$."
   ]
  },
  {
   "cell_type": "code",
   "execution_count": 1,
   "id": "ea27767b-d65e-4381-ac99-1fe23c252182",
   "metadata": {},
   "outputs": [
    {
     "name": "stdout",
     "output_type": "stream",
     "text": [
      "*************************\n",
      "**       ENCRYPT       **\n",
      "*************************\n",
      "\n",
      "Choose password:\n"
     ]
    },
    {
     "name": "stdin",
     "output_type": "stream",
     "text": [
      " SecretPassword\n"
     ]
    },
    {
     "name": "stdout",
     "output_type": "stream",
     "text": [
      "\n",
      "Choose message `X` to encrypt:\n"
     ]
    },
    {
     "name": "stdin",
     "output_type": "stream",
     "text": [
      " SecretMessage\n"
     ]
    },
    {
     "name": "stdout",
     "output_type": "stream",
     "text": [
      "\n",
      "\n",
      "Message X in vector form (press enter to proceed):\n",
      "\n",
      "X =  [46, 5, 3, 18, 5, 20, 40, 5, 19, 19, 1, 7, 5]\n",
      "\n",
      "(Press enter to proceed)\n",
      "\n"
     ]
    },
    {
     "name": "stdin",
     "output_type": "stream",
     "text": [
      " \n"
     ]
    },
    {
     "name": "stdout",
     "output_type": "stream",
     "text": [
      "Encrypted message AX = B:\n",
      "\n",
      "B =  [276, 105, 57, 378, 105, 120, 4555, 110, 86564, 86564, 23, 862, 2165] \n",
      "\n",
      "\n",
      "(Press enter to proceed):\n",
      "\n"
     ]
    },
    {
     "name": "stdin",
     "output_type": "stream",
     "text": [
      " \n"
     ]
    },
    {
     "name": "stdout",
     "output_type": "stream",
     "text": [
      "*************************\n",
      "**       DECRYPT       **\n",
      "*************************\n",
      "\n",
      "\n",
      "Message to decrypt:\n",
      "B =  [276, 105, 57, 378, 105, 120, 4555, 110, 86564, 86564, 23, 862, 2165] \n",
      "\n",
      "Input password:\n"
     ]
    },
    {
     "name": "stdin",
     "output_type": "stream",
     "text": [
      " SecretPassword\n"
     ]
    },
    {
     "name": "stdout",
     "output_type": "stream",
     "text": [
      "\n",
      "Decrypted message as a vector:\n",
      "A^{-1}B = X =  [46, 5, 3, 18, 5, 20, 40, 5, 19, 19, 1, 7, 5]\n",
      "\n",
      "(Press enter to proceed)\n",
      "\n"
     ]
    },
    {
     "name": "stdin",
     "output_type": "stream",
     "text": [
      " \n"
     ]
    },
    {
     "name": "stdout",
     "output_type": "stream",
     "text": [
      "\n",
      "Decrypted message as a message:\n",
      "SecretMessage \n",
      "\n"
     ]
    }
   ],
   "source": [
    "import numpy as np\n",
    "#import time#, getpass\n",
    "\n",
    "characters_strings = list('abcdefghijklmnopqrstuvwxyz ABCDEFGHIJKLMNOPQRSTUVWXYZ0123456789.,-')\n",
    "characters_integers = list(np.arange(1,67))\n",
    "dic = list(zip(characters_strings,characters_integers))\n",
    "class dictionary:\n",
    "    '''Translates integers to letters and vice versa'''\n",
    "    def msg_to_vector(self,mes):\n",
    "        out = []\n",
    "        for a in mes:\n",
    "            assert  a in characters_strings, f\"Invalid character. The character {a} is not allowed.\"\n",
    "            i = characters_strings.index(a)\n",
    "            out.append(characters_integers[i])            \n",
    "        return np.array(out)      \n",
    "        \n",
    "    def vector_to_msg(self,vec):\n",
    "        out = ''\n",
    "        for n in vec:\n",
    "            assert  n in characters_integers, (f\"Wrong password. The number {n} does\"\n",
    "                                               \" not have a string character associated to it.\")\n",
    "            i = characters_integers.index(n)\n",
    "            out = out + characters_strings[i]     \n",
    "        return out          \n",
    "    \n",
    "D = dictionary()\n",
    "\n",
    "print('*************************')\n",
    "print('**       ENCRYPT       **')\n",
    "print('*************************')\n",
    "print('')\n",
    "print('Choose password:')\n",
    "pw = D.msg_to_vector(input())\n",
    "\n",
    "\n",
    "\n",
    "\n",
    "print('')\n",
    "print('Choose message `X` to encrypt:')\n",
    "ms = input()\n",
    "ms_vec = D.msg_to_vector(ms) # Transform  string message in vector form\n",
    "\n",
    "Es = [] # List of Elementary matrices\n",
    "for i , p in enumerate(ms):\n",
    "    E = np.identity(len(ms))\n",
    "    E[i][np.mod(int(pw[np.mod(i,len(pw))]),len(ms))] = int(pw[np.mod(i,len(pw))])\n",
    "    Es.append(E)\n",
    "\n",
    "ms_vec_encryp = ms_vec\n",
    "for i in range(len(Es)):\n",
    "    ms_vec_encryp = Es[i].dot(ms_vec_encryp)\n",
    "    \n",
    "\n",
    "print('\\n')\n",
    "print('Message X in vector form (press enter to proceed):\\n')\n",
    "print('X = ',list(ms_vec))\n",
    "print('\\n(Press enter to proceed)\\n')\n",
    "input()\n",
    "print('Encrypted message AX = B:\\n')\n",
    "print('B = ',list(map(int,list(ms_vec_encryp))), '\\n\\n')\n",
    "print('(Press enter to proceed):\\n')\n",
    "input()\n",
    "print('*************************')\n",
    "print('**       DECRYPT       **')\n",
    "print('*************************\\n\\n')\n",
    "\n",
    "print('Message to decrypt:')\n",
    "print('B = ',list(map(int,list(ms_vec_encryp))), '\\n')\n",
    "\n",
    "\n",
    "print('Input password:')\n",
    "pw_decr = D.msg_to_vector(input())\n",
    "\n",
    "Es_dec = []\n",
    "for i , p in enumerate(ms_vec_encryp):\n",
    "    E_dec = np.identity(len(ms_vec_encryp))\n",
    "    E_dec[i][np.mod(int(pw_decr[np.mod(i,len(pw_decr))]),len(ms_vec_encryp))] = int(pw_decr[np.mod(i,len(pw_decr))])\n",
    "    E_dec_i = np.linalg.inv(E_dec)\n",
    "    Es_dec.insert(0,E_dec_i)\n",
    "\n",
    "ms_vec_decr = ms_vec_encryp\n",
    "for i in range(len(Es_dec)):\n",
    "    ms_vec_decr = Es_dec[i].dot(ms_vec_decr)\n",
    "    \n",
    "print('')\n",
    "print('Decrypted message as a vector:')\n",
    "print('A^{-1}B = X = ',list(map(int,list(ms_vec_decr))))\n",
    "print('\\n(Press enter to proceed)\\n')\n",
    "input()\n",
    "print('')\n",
    "print('Decrypted message as a message:')\n",
    "print(D.vector_to_msg(ms_vec_decr), '\\n')"
   ]
  }
 ],
 "metadata": {
  "kernelspec": {
   "display_name": "Python 3 (ipykernel)",
   "language": "python",
   "name": "python3"
  },
  "language_info": {
   "codemirror_mode": {
    "name": "ipython",
    "version": 3
   },
   "file_extension": ".py",
   "mimetype": "text/x-python",
   "name": "python",
   "nbconvert_exporter": "python",
   "pygments_lexer": "ipython3",
   "version": "3.9.6"
  }
 },
 "nbformat": 4,
 "nbformat_minor": 5
}
