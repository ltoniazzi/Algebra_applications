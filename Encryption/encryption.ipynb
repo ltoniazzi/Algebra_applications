{
 "cells": [
  {
   "cell_type": "code",
   "execution_count": null,
   "id": "5b71c8ca-2860-4110-b628-586eac98ccbd",
   "metadata": {},
   "outputs": [
    {
     "name": "stdout",
     "output_type": "stream",
     "text": [
      "*************************\n",
      "**       ENCRYPT       **\n",
      "*************************\n",
      "\n",
      "Choose password:\n"
     ]
    },
    {
     "name": "stdin",
     "output_type": "stream",
     "text": [
      " SecretPassword\n"
     ]
    },
    {
     "name": "stdout",
     "output_type": "stream",
     "text": [
      "\n",
      "Choose message `X` to encrypt:\n"
     ]
    }
   ],
   "source": [
    "import numpy as np\n",
    "#import time#, getpass\n",
    "\n",
    "al = list('abcdefghijklmnopqrstuvwxyz ABCDEFGHIJKLMNOPQRSTUVWXYZ0123456789.,-')\n",
    "nu = list(np.arange(1,67))\n",
    "dic = list(zip(al,nu))\n",
    "class dictionary:\n",
    "    '''Translates integers to letters and vice versa'''\n",
    "    def mes_vec(self,mes):\n",
    "        out = []\n",
    "        for a in mes:\n",
    "            i = al.index(a)\n",
    "            out.append(nu[i])            \n",
    "        return np.array(out)      \n",
    "        \n",
    "    def vec_mes(self,vec):\n",
    "        out = ''\n",
    "        for n in vec:\n",
    "            i = nu.index(n)\n",
    "            out = out + al[i]     \n",
    "        return out          \n",
    "    \n",
    "D = dictionary()\n",
    "\n",
    "print('*************************')\n",
    "print('**       ENCRYPT       **')\n",
    "print('*************************')\n",
    "print('')\n",
    "print('Choose password:')\n",
    "pw = D.mes_vec(input())\n",
    "\n",
    "\n",
    "\n",
    "\n",
    "print('')\n",
    "print('Choose message `X` to encrypt:')\n",
    "ms = input()\n",
    "#print(ms)\n",
    "ms_vec = D.mes_vec(ms) #np.array(list(map(int,list(ms))))\n",
    "\n",
    "Es = []\n",
    "for i , p in enumerate(ms):\n",
    "    E = np.identity(len(ms))\n",
    "    E[i][np.mod(int(pw[np.mod(i,len(pw))]),len(ms))] = int(pw[np.mod(i,len(pw))])\n",
    "    Es.append(E)\n",
    "\n",
    "ms_vec_encryp = ms_vec\n",
    "for i in range(len(Es)):\n",
    "    ms_vec_encryp = Es[i].dot(ms_vec_encryp)\n",
    "    \n",
    "\n",
    "print('\\n')\n",
    "print('Message X in vector form:\\n')\n",
    "print('X = ',list(ms_vec))\n",
    "input()\n",
    "print('Encrypted message AX = B:\\n')\n",
    "print('B = ',list(map(int,list(ms_vec_encryp))), '\\n\\n')\n",
    "input()\n",
    "print('*************************')\n",
    "print('**       DECRYPT       **')\n",
    "print('*************************\\n\\n')\n",
    "\n",
    "print('Message to decrypt:')\n",
    "print('B = ',list(map(int,list(ms_vec_encryp))), '\\n')\n",
    "\n",
    "\n",
    "print('Input password:')\n",
    "pw_decr = D.mes_vec(input())\n",
    "\n",
    "Es_dec = []\n",
    "for i , p in enumerate(ms_vec_encryp):\n",
    "    E_dec = np.identity(len(ms_vec_encryp))\n",
    "    E_dec[i][np.mod(int(pw_decr[np.mod(i,len(pw_decr))]),len(ms_vec_encryp))] = int(pw_decr[np.mod(i,len(pw_decr))])\n",
    "    E_dec_i = np.linalg.inv(E_dec)\n",
    "    Es_dec.insert(0,E_dec_i)\n",
    "\n",
    "ms_vec_decr = ms_vec_encryp\n",
    "for i in range(len(Es_dec)):\n",
    "    ms_vec_decr = Es_dec[i].dot(ms_vec_decr)\n",
    "    \n",
    "print('')\n",
    "print('Decrypted message as a vector:')\n",
    "print('A^{-1}B = X = ',list(map(int,list(ms_vec_decr))))\n",
    "input()\n",
    "print('')\n",
    "print('Decrypted message as a message:')\n",
    "print(D.vec_mes(ms_vec_decr), '\\n')"
   ]
  },
  {
   "cell_type": "code",
   "execution_count": null,
   "id": "fba015b6-7aae-4412-9ae0-b7df86c11e49",
   "metadata": {},
   "outputs": [],
   "source": []
  }
 ],
 "metadata": {
  "kernelspec": {
   "display_name": "Python 3",
   "language": "python",
   "name": "python3"
  },
  "language_info": {
   "codemirror_mode": {
    "name": "ipython",
    "version": 3
   },
   "file_extension": ".py",
   "mimetype": "text/x-python",
   "name": "python",
   "nbconvert_exporter": "python",
   "pygments_lexer": "ipython3",
   "version": "3.9.5"
  }
 },
 "nbformat": 4,
 "nbformat_minor": 5
}
