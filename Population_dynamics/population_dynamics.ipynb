{
 "cells": [
  {
   "cell_type": "code",
   "execution_count": 1,
   "id": "d9d65b56-7fb2-4195-aa73-f44b95ae3d92",
   "metadata": {},
   "outputs": [],
   "source": [
    "%matplotlib inline\n",
    "import matplotlib.pyplot as plt\n",
    "import ipywidgets as widgets\n",
    "import numpy as np"
   ]
  },
  {
   "cell_type": "markdown",
   "id": "07345095-212c-4894-84fc-45415247be30",
   "metadata": {},
   "source": [
    "# Population dynamics\n",
    "\n",
    "We take a 2-dimensional real matrix \n",
    "\n",
    "$$\n",
    "A =\\begin{bmatrix}a& b\\\\ c&d \\end{bmatrix}\n",
    "$$\n",
    "\n",
    "Such that $a,b,c,d\\ge 0$ and $a+c=1=b+d$ (so that this is a Markov transition matrix). Then we repeatedly apply this matrix to an initial vector $\\mathbf v = [6,4]^T$, to create the dynamical system\n",
    "\n",
    "$$\n",
    "A^n \\mathbf  v, \\quad n=0,1,2,... .\n",
    "$$\n",
    "\n",
    "This models the movement of a population between a location $x$ and a location $y$ with discrete time steps. We plot below these movements as a function of time $n$. \n",
    "\n",
    "Can you find the exact distribution of the population as $n\\to\\infty$ using the eigenvalues/vectors of $A$?"
   ]
  },
  {
   "cell_type": "code",
   "execution_count": 2,
   "id": "d47450d6-7d2e-41b1-979e-9ad3cb1f87c2",
   "metadata": {
    "tags": []
   },
   "outputs": [],
   "source": [
    "# Matrix A entries  (Markovian transition matrix)\n",
    "a, b, c, d = .95, .03, .05, .97\n",
    "# v vector entries\n",
    "x, y = 6, 4\n",
    "\n",
    "# Construct the matrix\n",
    "A = np.array([[a, b], [c, d]])\n",
    "v = np.array([x, y]).reshape(2,1)\n",
    "#v = np.array([3,5]).reshape(2,1)\n",
    "dyn = v\n",
    "time_ = np.arange(1,51)\n",
    "for n in time_:\n",
    "    #dyn.append(np.linalg.matrix_power(A,n) @ v)\n",
    "    dyn = np.column_stack((dyn, np.linalg.matrix_power(A,n) @ v))\n",
    "sizes = 20* np.ones(dyn.shape[1])\n",
    "\n",
    "'''# Rotation matrix:\n",
    "#A matrix entries\n",
    "a, b, c, d = np.cos(.05), -np.sin(.05), np.sin(.05), np.cos(.05)\n",
    "#v vector entries\n",
    "x, y = 6, 6\n",
    "''';"
   ]
  },
  {
   "cell_type": "code",
   "execution_count": 3,
   "id": "d227c344-c43d-4266-ab4b-18907eb3b770",
   "metadata": {},
   "outputs": [
    {
     "data": {
      "application/vnd.jupyter.widget-view+json": {
       "model_id": "76ca133adc924deea5491a3bd4e0ebfb",
       "version_major": 2,
       "version_minor": 0
      },
      "text/plain": [
       "interactive(children=(IntSlider(value=0, description='n', max=50), Output()), _dom_classes=('widget-interact',…"
      ]
     },
     "metadata": {},
     "output_type": "display_data"
    }
   ],
   "source": [
    "@widgets.interact(n=(0,50,1))\n",
    "def plot_R(n=0):\n",
    "    plt.title('$A^n v$ as a point in $R^2$')\n",
    "    plt.xlabel('Pop. in central city')\n",
    "    plt.ylabel('Pop. in suburbs')\n",
    "    plt.xlim(min(dyn[0])-.05*np.abs(min(dyn[0])), max(dyn[0])+.05*max(dyn[0]))\n",
    "    plt.ylim(min(dyn[1])-.05*np.abs(min(dyn[1])), max(dyn[1])+.05*max(dyn[1]))\n",
    "    plt.scatter(dyn[0][:n],dyn[1][:n],s=sizes[:n], label='$A^n v$ up to time n = %.0f' %n)\n",
    "    plt.legend(loc='best')\n",
    "    plt.show()"
   ]
  },
  {
   "cell_type": "code",
   "execution_count": 4,
   "id": "eb8377c7-8ecf-456d-bf81-a3f1e0b89061",
   "metadata": {},
   "outputs": [
    {
     "data": {
      "application/vnd.jupyter.widget-view+json": {
       "model_id": "42d2201b40df473b9746a3ff0fdb4d92",
       "version_major": 2,
       "version_minor": 0
      },
      "text/plain": [
       "interactive(children=(IntSlider(value=0, description='n', max=50), Output()), _dom_classes=('widget-interact',…"
      ]
     },
     "metadata": {},
     "output_type": "display_data"
    }
   ],
   "source": [
    "@widgets.interact(n=(0,50,1))\n",
    "def plot_time(n=0):\n",
    "    plt.title('$A^n v_1$ as a function of time')\n",
    "    plt.xlabel('Time')\n",
    "    plt.ylabel('Pop. in central city')\n",
    "    plt.xlim(0, len(time_))\n",
    "    plt.ylim(min(dyn[0])-.05*np.abs(min(dyn[0])), max(dyn[0])+.05*max(dyn[0]))\n",
    "    plt.plot(time_[:n],dyn[0][:n], label='$A^n v_1$ up to time n = %.0f' %n)\n",
    "    plt.legend(loc='best')\n",
    "    plt.show()"
   ]
  },
  {
   "cell_type": "code",
   "execution_count": null,
   "id": "7f6b1359-ed09-4cd1-8836-ed1b8f677921",
   "metadata": {},
   "outputs": [
    {
     "data": {
      "application/vnd.jupyter.widget-view+json": {
       "model_id": "9ba185efc94048dcbc6a8256258e35ff",
       "version_major": 2,
       "version_minor": 0
      },
      "text/plain": [
       "interactive(children=(IntSlider(value=0, description='n', max=50), Output()), _dom_classes=('widget-interact',…"
      ]
     },
     "metadata": {},
     "output_type": "display_data"
    }
   ],
   "source": [
    "@widgets.interact(n=(0,50,1))\n",
    "def plot_second_coord(n=0):\n",
    "    plt.title('$A^n v_2$')\n",
    "    plt.xlabel('Time')\n",
    "    plt.ylabel('Pop. in suburbs')\n",
    "    plt.xlim(0, len(time_)+3)\n",
    "    plt.ylim(min(dyn[1])-.05*np.abs(min(dyn[1])), max(dyn[1])+.05*max(dyn[1]))\n",
    "    plt.plot(time_[:n],dyn[1][:n], label='$A^n v_2$ up to time = %.0f' %n)\n",
    "    plt.legend(loc='upper left')\n",
    "    plt.show()"
   ]
  },
  {
   "cell_type": "code",
   "execution_count": null,
   "id": "7e36a4dd-4121-4bcc-b6da-576f119e6a2d",
   "metadata": {},
   "outputs": [],
   "source": [
    "@widgets.interact(n=(0,50,1))\n",
    "def plot_coord_ratio(n=0):\n",
    "    plt.title('$A^n v_1/A^n v_2$')\n",
    "    plt.xlabel('Time')\n",
    "    plt.ylabel('Ratio Pop. in centr to sub')\n",
    "    plt.xlim(0, len(time_)+3)\n",
    "    plt.ylim(min(dyn[0]/dyn[1])-.05*min(dyn[0]/dyn[1]), max(dyn[0]/dyn[1])+.05*max(dyn[0]/dyn[1]))\n",
    "    plt.plot(time_[:n],dyn[0][:n]/dyn[1][:n], label='$A^n v_1/A^n v_2$ up to time = %.0f' %n)\n",
    "    plt.legend(loc='best')\n",
    "    plt.show()"
   ]
  }
 ],
 "metadata": {
  "kernelspec": {
   "display_name": "Python 3 (ipykernel)",
   "language": "python",
   "name": "python3"
  },
  "language_info": {
   "codemirror_mode": {
    "name": "ipython",
    "version": 3
   },
   "file_extension": ".py",
   "mimetype": "text/x-python",
   "name": "python",
   "nbconvert_exporter": "python",
   "pygments_lexer": "ipython3",
   "version": "3.9.6"
  }
 },
 "nbformat": 4,
 "nbformat_minor": 5
}
